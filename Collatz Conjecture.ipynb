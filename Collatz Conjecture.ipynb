{
  "metadata": {
    "language_info": {
      "codemirror_mode": {
        "name": "python",
        "version": 3
      },
      "file_extension": ".py",
      "mimetype": "text/x-python",
      "name": "python",
      "nbconvert_exporter": "python",
      "pygments_lexer": "ipython3",
      "version": "3.8"
    },
    "kernelspec": {
      "name": "python",
      "display_name": "Python (Pyodide)",
      "language": "python"
    }
  },
  "nbformat_minor": 4,
  "nbformat": 4,
  "cells": [
    {
      "cell_type": "code",
      "source": "import time\n#get the start time\nst = time.time()\n\n\n#################################\n#################################\n\nx=0\na=[]\n\nb = {1:[1],2:[2]}\nm = {}\n\ng = [1000]\n\nfor i in g:\n    for j in range(3,i+1):\n        x=j\n        a = []\n        while x>1:\n            if x%2 == 0:\n                x=x/2\n            elif x%2==1:\n                x= 3*x+1\n            a.append(int(x))\n            b[j]=a\n            #print(f\" when x : {i} , number of step of Collat Conjecture is:\", len(a))\n\n#data of steps\n\nc=[]\n\nfor i in g:\n    for j in range(1,i+1):\n        c.append(len(b[j]))\n        \n        \nfor i in g:\n    for j in range(1,i+1):\n        m[j] = c[j-1]\n        \nfor i in g:\n        print(m[i])\n\n#get the end time\n\net = time.time()\n\nelapsed_time = et-st\n\nprint(\"Execution time:\", elapsed_time, \"seconds\")\n\n#To see all steps you can run just m",
      "metadata": {
        "trusted": true
      },
      "execution_count": 5,
      "outputs": [
        {
          "name": "stdout",
          "text": "111\nExecution time: 0.06500029563903809 seconds\n",
          "output_type": "stream"
        }
      ]
    }
  ]
}